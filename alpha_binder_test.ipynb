def func():
    print("Binder Test")
    print("Jupyter .....")

#type func() to fun program
